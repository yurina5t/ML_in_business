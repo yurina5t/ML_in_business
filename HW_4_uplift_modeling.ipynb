{
 "cells": [
  {
   "cell_type": "markdown",
   "metadata": {
    "id": "TUjzxmyZTFX8"
   },
   "source": [
    "1. скачать набор данных маркетинговых кампаний отсюда https://www.kaggle.com/davinwijaya/customer-retention"
   ]
  },
  {
   "cell_type": "code",
   "execution_count": 1,
   "metadata": {
    "colab": {
     "base_uri": "https://localhost:8080/"
    },
    "id": "s5Py2fXwS_F0",
    "outputId": "c0eb1e7d-6dc0-4c06-df9f-353f94257986"
   },
   "outputs": [
    {
     "name": "stdout",
     "output_type": "stream",
     "text": [
      "--2023-07-13 13:13:18--  https://drive.google.com/uc?id=1a47_w6J2G2k_IQNCaPX5JO56-4qfM1pJ\n",
      "Resolving drive.google.com (drive.google.com)... 142.250.180.206\n",
      "Connecting to drive.google.com (drive.google.com)|142.250.180.206|:443... connected.\n",
      "HTTP request sent, awaiting response... 303 See Other\n",
      "Location: https://doc-00-c0-docs.googleusercontent.com/docs/securesc/ha0ro937gcuc7l7deffksulhg5h7mbp1/17n3ok6q39j7v30gdao0ckpvuccvi6n5/1689246750000/14904333240138417226/*/1a47_w6J2G2k_IQNCaPX5JO56-4qfM1pJ?uuid=16e1aa96-8525-49ba-9fff-97b69e21891e [following]\n",
      "Warning: wildcards not supported in HTTP.\n",
      "--2023-07-13 13:13:19--  https://doc-00-c0-docs.googleusercontent.com/docs/securesc/ha0ro937gcuc7l7deffksulhg5h7mbp1/17n3ok6q39j7v30gdao0ckpvuccvi6n5/1689246750000/14904333240138417226/*/1a47_w6J2G2k_IQNCaPX5JO56-4qfM1pJ?uuid=16e1aa96-8525-49ba-9fff-97b69e21891e\n",
      "Resolving doc-00-c0-docs.googleusercontent.com (doc-00-c0-docs.googleusercontent.com)... 142.250.180.225\n",
      "Connecting to doc-00-c0-docs.googleusercontent.com (doc-00-c0-docs.googleusercontent.com)|142.250.180.225|:443... connected.\n",
      "HTTP request sent, awaiting response... 200 OK\n",
      "Length: 2679859 (2.6M) [text/csv]\n",
      "Saving to: 'data.csv'\n",
      "\n",
      "data.csv            100%[===================>]   2.56M  5.18MB/s    in 0.5s    \n",
      "\n",
      "2023-07-13 13:13:20 (5.18 MB/s) - 'data.csv' saved [2679859/2679859]\n",
      "\n"
     ]
    }
   ],
   "source": [
    "!wget 'https://drive.google.com/uc?id=1a47_w6J2G2k_IQNCaPX5JO56-4qfM1pJ' -O data.csv"
   ]
  },
  {
   "cell_type": "code",
   "execution_count": 2,
   "metadata": {
    "colab": {
     "base_uri": "https://localhost:8080/"
    },
    "id": "RqRrkuClU397",
    "outputId": "2ee26ee8-fb1a-4b70-8d33-107dff133dce"
   },
   "outputs": [
    {
     "name": "stdout",
     "output_type": "stream",
     "text": [
      "Collecting scikit-uplift\n",
      "  Downloading scikit_uplift-0.5.1-py3-none-any.whl (42 kB)\n",
      "\u001b[2K     \u001b[90m━━━━━━━━━━━━━━━━━━━━━━━━━━━━━━━━━━━━━━━\u001b[0m \u001b[32m42.1/42.1 kB\u001b[0m \u001b[31m536.8 kB/s\u001b[0m eta \u001b[36m0:00:00\u001b[0m \u001b[36m0:00:01\u001b[0m\n",
      "\u001b[?25hRequirement already satisfied: catboost in /Users/anastasia/anaconda3/lib/python3.10/site-packages (1.0.6)\n",
      "Requirement already satisfied: pandas in /Users/anastasia/anaconda3/lib/python3.10/site-packages (from scikit-uplift) (2.0.3)\n",
      "Requirement already satisfied: requests in /Users/anastasia/anaconda3/lib/python3.10/site-packages (from scikit-uplift) (2.29.0)\n",
      "Requirement already satisfied: tqdm in /Users/anastasia/anaconda3/lib/python3.10/site-packages (from scikit-uplift) (4.65.0)\n",
      "Requirement already satisfied: scikit-learn>=0.21.0 in /Users/anastasia/anaconda3/lib/python3.10/site-packages (from scikit-uplift) (1.2.2)\n",
      "Requirement already satisfied: numpy>=1.16 in /Users/anastasia/anaconda3/lib/python3.10/site-packages (from scikit-uplift) (1.24.3)\n",
      "Requirement already satisfied: matplotlib in /Users/anastasia/anaconda3/lib/python3.10/site-packages (from scikit-uplift) (3.7.1)\n",
      "Requirement already satisfied: scipy in /Users/anastasia/anaconda3/lib/python3.10/site-packages (from catboost) (1.10.1)\n",
      "Requirement already satisfied: six in /Users/anastasia/anaconda3/lib/python3.10/site-packages (from catboost) (1.16.0)\n",
      "Requirement already satisfied: plotly in /Users/anastasia/anaconda3/lib/python3.10/site-packages (from catboost) (5.9.0)\n",
      "Requirement already satisfied: graphviz in /Users/anastasia/anaconda3/lib/python3.10/site-packages (from catboost) (0.20.1)\n",
      "Requirement already satisfied: tzdata>=2022.1 in /Users/anastasia/anaconda3/lib/python3.10/site-packages (from pandas->scikit-uplift) (2023.3)\n",
      "Requirement already satisfied: pytz>=2020.1 in /Users/anastasia/anaconda3/lib/python3.10/site-packages (from pandas->scikit-uplift) (2022.7)\n",
      "Requirement already satisfied: python-dateutil>=2.8.2 in /Users/anastasia/anaconda3/lib/python3.10/site-packages (from pandas->scikit-uplift) (2.8.2)\n",
      "Requirement already satisfied: joblib>=1.1.1 in /Users/anastasia/anaconda3/lib/python3.10/site-packages (from scikit-learn>=0.21.0->scikit-uplift) (1.3.1)\n",
      "Requirement already satisfied: threadpoolctl>=2.0.0 in /Users/anastasia/anaconda3/lib/python3.10/site-packages (from scikit-learn>=0.21.0->scikit-uplift) (2.2.0)\n",
      "Requirement already satisfied: packaging>=20.0 in /Users/anastasia/anaconda3/lib/python3.10/site-packages (from matplotlib->scikit-uplift) (23.0)\n",
      "Requirement already satisfied: pillow>=6.2.0 in /Users/anastasia/anaconda3/lib/python3.10/site-packages (from matplotlib->scikit-uplift) (9.4.0)\n",
      "Requirement already satisfied: fonttools>=4.22.0 in /Users/anastasia/anaconda3/lib/python3.10/site-packages (from matplotlib->scikit-uplift) (4.25.0)\n",
      "Requirement already satisfied: contourpy>=1.0.1 in /Users/anastasia/anaconda3/lib/python3.10/site-packages (from matplotlib->scikit-uplift) (1.0.5)\n",
      "Requirement already satisfied: kiwisolver>=1.0.1 in /Users/anastasia/anaconda3/lib/python3.10/site-packages (from matplotlib->scikit-uplift) (1.4.4)\n",
      "Requirement already satisfied: cycler>=0.10 in /Users/anastasia/anaconda3/lib/python3.10/site-packages (from matplotlib->scikit-uplift) (0.11.0)\n",
      "Requirement already satisfied: pyparsing>=2.3.1 in /Users/anastasia/anaconda3/lib/python3.10/site-packages (from matplotlib->scikit-uplift) (3.0.9)\n",
      "Requirement already satisfied: tenacity>=6.2.0 in /Users/anastasia/anaconda3/lib/python3.10/site-packages (from plotly->catboost) (8.2.2)\n",
      "Requirement already satisfied: urllib3<1.27,>=1.21.1 in /Users/anastasia/anaconda3/lib/python3.10/site-packages (from requests->scikit-uplift) (1.26.15)\n",
      "Requirement already satisfied: idna<4,>=2.5 in /Users/anastasia/anaconda3/lib/python3.10/site-packages (from requests->scikit-uplift) (3.4)\n",
      "Requirement already satisfied: certifi>=2017.4.17 in /Users/anastasia/anaconda3/lib/python3.10/site-packages (from requests->scikit-uplift) (2023.5.7)\n",
      "Requirement already satisfied: charset-normalizer<4,>=2 in /Users/anastasia/anaconda3/lib/python3.10/site-packages (from requests->scikit-uplift) (2.0.4)\n",
      "Installing collected packages: scikit-uplift\n",
      "Successfully installed scikit-uplift-0.5.1\n"
     ]
    }
   ],
   "source": [
    "!pip install scikit-uplift catboost"
   ]
  },
  {
   "cell_type": "code",
   "execution_count": 3,
   "metadata": {
    "id": "xBLAEkbYVTUQ"
   },
   "outputs": [],
   "source": [
    "import numpy as np \n",
    "import pandas as pd \n",
    "\n",
    "from sklearn.pipeline import Pipeline, make_pipeline\n",
    "from sklearn.pipeline import FeatureUnion\n",
    "from sklearn.base import BaseEstimator, TransformerMixin\n",
    "from sklearn.model_selection import cross_val_score, train_test_split\n",
    "from sklearn.preprocessing import StandardScaler\n",
    "from catboost import CatBoostClassifier\n",
    "\n",
    "from sklift.metrics import uplift_at_k\n",
    "from sklift.viz import plot_uplift_preds\n",
    "from sklift.models import SoloModel\n",
    "from sklift.viz import plot_qini_curve\n",
    "from sklift.viz import plot_uplift_curve\n",
    "from sklift.models import ClassTransformation\n",
    "from sklift.models import TwoModels\n",
    "\n",
    "import matplotlib.pyplot as plt\n",
    "import seaborn as sns\n",
    "\n",
    "import warnings\n",
    "warnings.filterwarnings('ignore')"
   ]
  },
  {
   "cell_type": "markdown",
   "metadata": {
    "id": "CFqDWzYNTGve"
   },
   "source": [
    "\n",
    "2. поле conversion - это целевая переменная, а offer - коммуникация. Переименовать поля (conversion -> target, offer -> treatment) и привести поле treatment к бинарному виду (1 или 0, т.е было какое-то предложение или нет) - значение No Offer означает отсутствие коммуникации, а все остальные - наличие."
   ]
  },
  {
   "cell_type": "code",
   "execution_count": 4,
   "metadata": {
    "colab": {
     "base_uri": "https://localhost:8080/",
     "height": 206
    },
    "id": "xtUro76TTpyG",
    "outputId": "4278e11e-821f-4007-b11a-8d863901f3b7"
   },
   "outputs": [
    {
     "data": {
      "text/html": [
       "<div>\n",
       "<style scoped>\n",
       "    .dataframe tbody tr th:only-of-type {\n",
       "        vertical-align: middle;\n",
       "    }\n",
       "\n",
       "    .dataframe tbody tr th {\n",
       "        vertical-align: top;\n",
       "    }\n",
       "\n",
       "    .dataframe thead th {\n",
       "        text-align: right;\n",
       "    }\n",
       "</style>\n",
       "<table border=\"1\" class=\"dataframe\">\n",
       "  <thead>\n",
       "    <tr style=\"text-align: right;\">\n",
       "      <th></th>\n",
       "      <th>recency</th>\n",
       "      <th>history</th>\n",
       "      <th>used_discount</th>\n",
       "      <th>used_bogo</th>\n",
       "      <th>zip_code</th>\n",
       "      <th>is_referral</th>\n",
       "      <th>channel</th>\n",
       "      <th>offer</th>\n",
       "      <th>conversion</th>\n",
       "    </tr>\n",
       "  </thead>\n",
       "  <tbody>\n",
       "    <tr>\n",
       "      <th>0</th>\n",
       "      <td>10</td>\n",
       "      <td>142.44</td>\n",
       "      <td>1</td>\n",
       "      <td>0</td>\n",
       "      <td>Surburban</td>\n",
       "      <td>0</td>\n",
       "      <td>Phone</td>\n",
       "      <td>Buy One Get One</td>\n",
       "      <td>0</td>\n",
       "    </tr>\n",
       "    <tr>\n",
       "      <th>1</th>\n",
       "      <td>6</td>\n",
       "      <td>329.08</td>\n",
       "      <td>1</td>\n",
       "      <td>1</td>\n",
       "      <td>Rural</td>\n",
       "      <td>1</td>\n",
       "      <td>Web</td>\n",
       "      <td>No Offer</td>\n",
       "      <td>0</td>\n",
       "    </tr>\n",
       "    <tr>\n",
       "      <th>2</th>\n",
       "      <td>7</td>\n",
       "      <td>180.65</td>\n",
       "      <td>0</td>\n",
       "      <td>1</td>\n",
       "      <td>Surburban</td>\n",
       "      <td>1</td>\n",
       "      <td>Web</td>\n",
       "      <td>Buy One Get One</td>\n",
       "      <td>0</td>\n",
       "    </tr>\n",
       "    <tr>\n",
       "      <th>3</th>\n",
       "      <td>9</td>\n",
       "      <td>675.83</td>\n",
       "      <td>1</td>\n",
       "      <td>0</td>\n",
       "      <td>Rural</td>\n",
       "      <td>1</td>\n",
       "      <td>Web</td>\n",
       "      <td>Discount</td>\n",
       "      <td>0</td>\n",
       "    </tr>\n",
       "    <tr>\n",
       "      <th>4</th>\n",
       "      <td>2</td>\n",
       "      <td>45.34</td>\n",
       "      <td>1</td>\n",
       "      <td>0</td>\n",
       "      <td>Urban</td>\n",
       "      <td>0</td>\n",
       "      <td>Web</td>\n",
       "      <td>Buy One Get One</td>\n",
       "      <td>0</td>\n",
       "    </tr>\n",
       "  </tbody>\n",
       "</table>\n",
       "</div>"
      ],
      "text/plain": [
       "   recency  history  used_discount  used_bogo   zip_code  is_referral channel  \\\n",
       "0       10   142.44              1          0  Surburban            0   Phone   \n",
       "1        6   329.08              1          1      Rural            1     Web   \n",
       "2        7   180.65              0          1  Surburban            1     Web   \n",
       "3        9   675.83              1          0      Rural            1     Web   \n",
       "4        2    45.34              1          0      Urban            0     Web   \n",
       "\n",
       "             offer  conversion  \n",
       "0  Buy One Get One           0  \n",
       "1         No Offer           0  \n",
       "2  Buy One Get One           0  \n",
       "3         Discount           0  \n",
       "4  Buy One Get One           0  "
      ]
     },
     "execution_count": 4,
     "metadata": {},
     "output_type": "execute_result"
    }
   ],
   "source": [
    "df = pd.read_csv('data.csv', sep=',')\n",
    "df.head()"
   ]
  },
  {
   "cell_type": "code",
   "execution_count": 5,
   "metadata": {},
   "outputs": [
    {
     "data": {
      "text/html": [
       "<div>\n",
       "<style scoped>\n",
       "    .dataframe tbody tr th:only-of-type {\n",
       "        vertical-align: middle;\n",
       "    }\n",
       "\n",
       "    .dataframe tbody tr th {\n",
       "        vertical-align: top;\n",
       "    }\n",
       "\n",
       "    .dataframe thead th {\n",
       "        text-align: right;\n",
       "    }\n",
       "</style>\n",
       "<table border=\"1\" class=\"dataframe\">\n",
       "  <thead>\n",
       "    <tr style=\"text-align: right;\">\n",
       "      <th></th>\n",
       "      <th>recency</th>\n",
       "      <th>history</th>\n",
       "      <th>used_discount</th>\n",
       "      <th>used_bogo</th>\n",
       "      <th>zip_code</th>\n",
       "      <th>is_referral</th>\n",
       "      <th>channel</th>\n",
       "      <th>treatment</th>\n",
       "      <th>target</th>\n",
       "    </tr>\n",
       "  </thead>\n",
       "  <tbody>\n",
       "    <tr>\n",
       "      <th>0</th>\n",
       "      <td>10</td>\n",
       "      <td>142.44</td>\n",
       "      <td>1</td>\n",
       "      <td>0</td>\n",
       "      <td>Surburban</td>\n",
       "      <td>0</td>\n",
       "      <td>Phone</td>\n",
       "      <td>1</td>\n",
       "      <td>0</td>\n",
       "    </tr>\n",
       "    <tr>\n",
       "      <th>1</th>\n",
       "      <td>6</td>\n",
       "      <td>329.08</td>\n",
       "      <td>1</td>\n",
       "      <td>1</td>\n",
       "      <td>Rural</td>\n",
       "      <td>1</td>\n",
       "      <td>Web</td>\n",
       "      <td>0</td>\n",
       "      <td>0</td>\n",
       "    </tr>\n",
       "    <tr>\n",
       "      <th>2</th>\n",
       "      <td>7</td>\n",
       "      <td>180.65</td>\n",
       "      <td>0</td>\n",
       "      <td>1</td>\n",
       "      <td>Surburban</td>\n",
       "      <td>1</td>\n",
       "      <td>Web</td>\n",
       "      <td>1</td>\n",
       "      <td>0</td>\n",
       "    </tr>\n",
       "    <tr>\n",
       "      <th>3</th>\n",
       "      <td>9</td>\n",
       "      <td>675.83</td>\n",
       "      <td>1</td>\n",
       "      <td>0</td>\n",
       "      <td>Rural</td>\n",
       "      <td>1</td>\n",
       "      <td>Web</td>\n",
       "      <td>1</td>\n",
       "      <td>0</td>\n",
       "    </tr>\n",
       "    <tr>\n",
       "      <th>4</th>\n",
       "      <td>2</td>\n",
       "      <td>45.34</td>\n",
       "      <td>1</td>\n",
       "      <td>0</td>\n",
       "      <td>Urban</td>\n",
       "      <td>0</td>\n",
       "      <td>Web</td>\n",
       "      <td>1</td>\n",
       "      <td>0</td>\n",
       "    </tr>\n",
       "  </tbody>\n",
       "</table>\n",
       "</div>"
      ],
      "text/plain": [
       "   recency  history  used_discount  used_bogo   zip_code  is_referral channel  \\\n",
       "0       10   142.44              1          0  Surburban            0   Phone   \n",
       "1        6   329.08              1          1      Rural            1     Web   \n",
       "2        7   180.65              0          1  Surburban            1     Web   \n",
       "3        9   675.83              1          0      Rural            1     Web   \n",
       "4        2    45.34              1          0      Urban            0     Web   \n",
       "\n",
       "   treatment  target  \n",
       "0          1       0  \n",
       "1          0       0  \n",
       "2          1       0  \n",
       "3          1       0  \n",
       "4          1       0  "
      ]
     },
     "execution_count": 5,
     "metadata": {},
     "output_type": "execute_result"
    }
   ],
   "source": [
    "df.rename(columns={'offer':'treatment', 'conversion':'target'}, inplace=True)\n",
    "df['treatment'] = df['treatment'].apply(lambda x: 0 if x == 'No Offer' else 1)\n",
    "df.head()"
   ]
  },
  {
   "cell_type": "code",
   "execution_count": 6,
   "metadata": {
    "id": "wpcvkjVIU0cI"
   },
   "outputs": [],
   "source": [
    "cat_feature = ['zip_code', 'channel']"
   ]
  },
  {
   "cell_type": "markdown",
   "metadata": {
    "id": "d_yf96lnTWtB"
   },
   "source": [
    "3. сделать разбиение набора данных не тренировочную и тестовую выборки"
   ]
  },
  {
   "cell_type": "code",
   "execution_count": 7,
   "metadata": {
    "id": "y7FuvcZNhVnP"
   },
   "outputs": [],
   "source": [
    "# разделим данные на train/test\n",
    "X_train, X_test, y_train, y_test = train_test_split(df.drop(columns='target'),\n",
    "                                                    df['target'],\n",
    "                                                    test_size=0.25,  \n",
    "                                                    random_state=7575,\n",
    "                                                    stratify=df['target'])\n",
    "\n",
    "treat_train = X_train['treatment']\n",
    "X_train.drop(columns=['treatment'], inplace=True)\n",
    "treat_val = X_test['treatment']\n",
    "X_test.drop(columns='treatment', inplace=True)"
   ]
  },
  {
   "cell_type": "markdown",
   "metadata": {
    "id": "Ed_hDVVzTYQ_"
   },
   "source": [
    "4. провести uplift-моделирование 3 способами:\n",
    "    1. одна модель с признаком коммуникации (S-learner)\n",
    "    2. модель с трансформацией таргета\n",
    "    3. вариант с двумя независимыми моделями"
   ]
  },
  {
   "cell_type": "code",
   "execution_count": 8,
   "metadata": {
    "colab": {
     "base_uri": "https://localhost:8080/",
     "height": 49
    },
    "id": "eHxJDaB9T4uA",
    "outputId": "ef35265f-393c-43a5-c898-8fedfba2ddb5"
   },
   "outputs": [
    {
     "data": {
      "text/html": [
       "<div>\n",
       "<style scoped>\n",
       "    .dataframe tbody tr th:only-of-type {\n",
       "        vertical-align: middle;\n",
       "    }\n",
       "\n",
       "    .dataframe tbody tr th {\n",
       "        vertical-align: top;\n",
       "    }\n",
       "\n",
       "    .dataframe thead th {\n",
       "        text-align: right;\n",
       "    }\n",
       "</style>\n",
       "<table border=\"1\" class=\"dataframe\">\n",
       "  <thead>\n",
       "    <tr style=\"text-align: right;\">\n",
       "      <th></th>\n",
       "      <th>model</th>\n",
       "      <th>uplift@10%</th>\n",
       "      <th>uplift@20%</th>\n",
       "      <th>uplift@30%</th>\n",
       "    </tr>\n",
       "  </thead>\n",
       "  <tbody>\n",
       "  </tbody>\n",
       "</table>\n",
       "</div>"
      ],
      "text/plain": [
       "Empty DataFrame\n",
       "Columns: [model, uplift@10%, uplift@20%, uplift@30%]\n",
       "Index: []"
      ]
     },
     "execution_count": 8,
     "metadata": {},
     "output_type": "execute_result"
    }
   ],
   "source": [
    "metrics_df = pd.DataFrame(columns=['model', 'uplift@10%', 'uplift@20%', 'uplift@30%'])\n",
    "metrics_df"
   ]
  },
  {
   "cell_type": "markdown",
   "metadata": {
    "id": "48rdrfgMFi2S"
   },
   "source": [
    "### A. Подход с одной моделью"
   ]
  },
  {
   "cell_type": "code",
   "execution_count": 9,
   "metadata": {
    "colab": {
     "base_uri": "https://localhost:8080/",
     "height": 444
    },
    "id": "tvU6f0RMhVnR",
    "outputId": "08e8b5c4-889c-451c-dda3-88671f35032b"
   },
   "outputs": [
    {
     "data": {
      "image/png": "[encoded data removed]",
      "text/plain": [
       "<Figure size 2000x700 with 3 Axes>"
      ]
     },
     "metadata": {},
     "output_type": "display_data"
    }
   ],
   "source": [
    "sm = SoloModel(CatBoostClassifier(iterations=50, random_state=7575, silent=True, cat_features=cat_feature))\n",
    "\n",
    "sm = sm.fit(X_train, y_train, treat_train)\n",
    "\n",
    "uplift_sm = sm.predict(X_test)\n",
    "\n",
    "sm_score_10 = uplift_at_k(y_true=y_test, uplift=uplift_sm, treatment=treat_val, strategy='by_group', k=0.1)\n",
    "sm_score_20 = uplift_at_k(y_true=y_test, uplift=uplift_sm, treatment=treat_val, strategy='by_group', k=0.2)\n",
    "sm_score_30 = uplift_at_k(y_true=y_test, uplift=uplift_sm, treatment=treat_val, strategy='by_group', k=0.3)\n",
    "\n",
    "df = {'model': type(sm).__name__,'uplift@10%': sm_score_10,'uplift@20%': sm_score_20, 'uplift@30%': sm_score_30}\n",
    "df = pd.DataFrame.from_dict(df, orient='index').T\n",
    "\n",
    "metrics_df = pd.concat([metrics_df, df], axis = 0).reset_index(drop=True)\n",
    "\n",
    "# Получим условные вероятности выполнения целевого действия при взаимодействии для каждого объекта\n",
    "sm_trmnt_preds = sm.trmnt_preds_\n",
    "# И условные вероятности выполнения целевого действия без взаимодействия для каждого объекта\n",
    "sm_ctrl_preds = sm.ctrl_preds_\n",
    "\n",
    "# Отрисуем распределения вероятностей и их разность (uplift)\n",
    "plot_uplift_preds(trmnt_preds=sm_trmnt_preds, ctrl_preds=sm_ctrl_preds);"
   ]
  },
  {
   "cell_type": "code",
   "execution_count": 10,
   "metadata": {},
   "outputs": [
    {
     "data": {
      "text/html": [
       "<div>\n",
       "<style scoped>\n",
       "    .dataframe tbody tr th:only-of-type {\n",
       "        vertical-align: middle;\n",
       "    }\n",
       "\n",
       "    .dataframe tbody tr th {\n",
       "        vertical-align: top;\n",
       "    }\n",
       "\n",
       "    .dataframe thead th {\n",
       "        text-align: right;\n",
       "    }\n",
       "</style>\n",
       "<table border=\"1\" class=\"dataframe\">\n",
       "  <thead>\n",
       "    <tr style=\"text-align: right;\">\n",
       "      <th></th>\n",
       "      <th>model</th>\n",
       "      <th>uplift@10%</th>\n",
       "      <th>uplift@20%</th>\n",
       "      <th>uplift@30%</th>\n",
       "    </tr>\n",
       "  </thead>\n",
       "  <tbody>\n",
       "    <tr>\n",
       "      <th>0</th>\n",
       "      <td>SoloModel</td>\n",
       "      <td>0.074109</td>\n",
       "      <td>0.071905</td>\n",
       "      <td>0.073349</td>\n",
       "    </tr>\n",
       "  </tbody>\n",
       "</table>\n",
       "</div>"
      ],
      "text/plain": [
       "       model uplift@10% uplift@20% uplift@30%\n",
       "0  SoloModel   0.074109   0.071905   0.073349"
      ]
     },
     "execution_count": 10,
     "metadata": {},
     "output_type": "execute_result"
    }
   ],
   "source": [
    "df"
   ]
  },
  {
   "cell_type": "markdown",
   "metadata": {
    "id": "ubRWYIfKuC9h"
   },
   "source": [
    "### B. Трансформация классов"
   ]
  },
  {
   "cell_type": "code",
   "execution_count": 11,
   "metadata": {
    "colab": {
     "base_uri": "https://localhost:8080/",
     "height": 444
    },
    "id": "ebIPBtaeurSg",
    "outputId": "c3719b75-564e-4287-9335-7fb49f60e922"
   },
   "outputs": [
    {
     "data": {
      "image/png": "[encoded data removed]",
      "text/plain": [
       "<Figure size 2000x700 with 3 Axes>"
      ]
     },
     "metadata": {},
     "output_type": "display_data"
    }
   ],
   "source": [
    "ct = ClassTransformation(CatBoostClassifier(iterations=50, random_state=7575, silent=True, cat_features=cat_feature))\n",
    "ct = ct.fit(X_train, y_train, treat_train)\n",
    "\n",
    "uplift_ct = ct.predict(X_test)\n",
    "\n",
    "ct_score_10 = uplift_at_k(y_true=y_test, uplift=uplift_ct, treatment=treat_val, strategy='by_group', k=0.1)\n",
    "ct_score_20 = uplift_at_k(y_true=y_test, uplift=uplift_ct, treatment=treat_val, strategy='by_group', k=0.2)\n",
    "ct_score_30 = uplift_at_k(y_true=y_test, uplift=uplift_ct, treatment=treat_val, strategy='by_group', k=0.3)\n",
    "\n",
    "df = {'model': type(ct).__name__,'uplift@10%': ct_score_10,'uplift@20%': ct_score_20, 'uplift@30%': ct_score_30}\n",
    "df = pd.DataFrame.from_dict(df, orient='index').T\n",
    "metrics_df = pd.concat([metrics_df, df], axis = 0).reset_index(drop=True)\n",
    "\n",
    "# Отрисуем распределения вероятностей и их разность (uplift)\n",
    "plot_uplift_preds(trmnt_preds=sm.trmnt_preds_, ctrl_preds=sm.ctrl_preds_);"
   ]
  },
  {
   "cell_type": "code",
   "execution_count": 12,
   "metadata": {},
   "outputs": [
    {
     "data": {
      "text/html": [
       "<div>\n",
       "<style scoped>\n",
       "    .dataframe tbody tr th:only-of-type {\n",
       "        vertical-align: middle;\n",
       "    }\n",
       "\n",
       "    .dataframe tbody tr th {\n",
       "        vertical-align: top;\n",
       "    }\n",
       "\n",
       "    .dataframe thead th {\n",
       "        text-align: right;\n",
       "    }\n",
       "</style>\n",
       "<table border=\"1\" class=\"dataframe\">\n",
       "  <thead>\n",
       "    <tr style=\"text-align: right;\">\n",
       "      <th></th>\n",
       "      <th>model</th>\n",
       "      <th>uplift@10%</th>\n",
       "      <th>uplift@20%</th>\n",
       "      <th>uplift@30%</th>\n",
       "    </tr>\n",
       "  </thead>\n",
       "  <tbody>\n",
       "    <tr>\n",
       "      <th>0</th>\n",
       "      <td>ClassTransformation</td>\n",
       "      <td>0.106004</td>\n",
       "      <td>0.072372</td>\n",
       "      <td>0.072411</td>\n",
       "    </tr>\n",
       "  </tbody>\n",
       "</table>\n",
       "</div>"
      ],
      "text/plain": [
       "                 model uplift@10% uplift@20% uplift@30%\n",
       "0  ClassTransformation   0.106004   0.072372   0.072411"
      ]
     },
     "execution_count": 12,
     "metadata": {},
     "output_type": "execute_result"
    }
   ],
   "source": [
    "df"
   ]
  },
  {
   "cell_type": "markdown",
   "metadata": {
    "id": "N9Tzf7wMw8KQ"
   },
   "source": [
    "### C. Две независимые модели"
   ]
  },
  {
   "cell_type": "code",
   "execution_count": 13,
   "metadata": {
    "colab": {
     "base_uri": "https://localhost:8080/",
     "height": 444
    },
    "id": "X9VB11gtxfJA",
    "outputId": "9823494f-0361-4f68-fcc4-b457d8ff3b0e"
   },
   "outputs": [
    {
     "data": {
      "image/png": "[encoded data removed]",
      "text/plain": [
       "<Figure size 2000x700 with 3 Axes>"
      ]
     },
     "metadata": {},
     "output_type": "display_data"
    }
   ],
   "source": [
    "tm = TwoModels(\n",
    "    CatBoostClassifier(iterations=50, random_state=7575, silent=True, cat_features=cat_feature),\n",
    "    CatBoostClassifier(iterations=50, random_state=7575, silent=True, cat_features=cat_feature),\n",
    "    method='vanilla'  # независимые модели\n",
    ")\n",
    "tm = tm.fit(\n",
    "    X_train, y_train, treat_train\n",
    ")\n",
    "\n",
    "uplift_tm = tm.predict(X_test)\n",
    "\n",
    "tm_score_10 = uplift_at_k(y_true=y_test, uplift=uplift_tm, treatment=treat_val, strategy='by_group', k=0.1)\n",
    "tm_score_20 = uplift_at_k(y_true=y_test, uplift=uplift_tm, treatment=treat_val, strategy='by_group', k=0.2)\n",
    "tm_score_30 = uplift_at_k(y_true=y_test, uplift=uplift_tm, treatment=treat_val, strategy='by_group', k=0.3)\n",
    "\n",
    "df = {'model': type(tm).__name__,'uplift@10%': tm_score_10,'uplift@20%': tm_score_20, 'uplift@30%': tm_score_30}\n",
    "df = pd.DataFrame.from_dict(df, orient='index').T\n",
    "metrics_df = pd.concat([metrics_df, df], axis = 0).reset_index(drop=True)\n",
    "\n",
    "\n",
    "plot_uplift_preds(trmnt_preds=tm.trmnt_preds_, ctrl_preds=tm.ctrl_preds_);"
   ]
  },
  {
   "cell_type": "code",
   "execution_count": 14,
   "metadata": {},
   "outputs": [
    {
     "data": {
      "text/html": [
       "<div>\n",
       "<style scoped>\n",
       "    .dataframe tbody tr th:only-of-type {\n",
       "        vertical-align: middle;\n",
       "    }\n",
       "\n",
       "    .dataframe tbody tr th {\n",
       "        vertical-align: top;\n",
       "    }\n",
       "\n",
       "    .dataframe thead th {\n",
       "        text-align: right;\n",
       "    }\n",
       "</style>\n",
       "<table border=\"1\" class=\"dataframe\">\n",
       "  <thead>\n",
       "    <tr style=\"text-align: right;\">\n",
       "      <th></th>\n",
       "      <th>model</th>\n",
       "      <th>uplift@10%</th>\n",
       "      <th>uplift@20%</th>\n",
       "      <th>uplift@30%</th>\n",
       "    </tr>\n",
       "  </thead>\n",
       "  <tbody>\n",
       "    <tr>\n",
       "      <th>0</th>\n",
       "      <td>TwoModels</td>\n",
       "      <td>0.082552</td>\n",
       "      <td>0.065332</td>\n",
       "      <td>0.061457</td>\n",
       "    </tr>\n",
       "  </tbody>\n",
       "</table>\n",
       "</div>"
      ],
      "text/plain": [
       "       model uplift@10% uplift@20% uplift@30%\n",
       "0  TwoModels   0.082552   0.065332   0.061457"
      ]
     },
     "execution_count": 14,
     "metadata": {},
     "output_type": "execute_result"
    }
   ],
   "source": [
    "df"
   ]
  },
  {
   "cell_type": "markdown",
   "metadata": {
    "id": "aRoUPUkszU3-"
   },
   "source": [
    "5. в конце вывести единую таблицу сравнения метрик uplift@10%, uplift@20% 3 моделей"
   ]
  },
  {
   "cell_type": "code",
   "execution_count": 15,
   "metadata": {
    "colab": {
     "base_uri": "https://localhost:8080/",
     "height": 143
    },
    "id": "18y8SVl5VjUi",
    "outputId": "2dba2da4-99fc-439a-a893-0a237652ba7d"
   },
   "outputs": [
    {
     "data": {
      "text/html": [
       "<div>\n",
       "<style scoped>\n",
       "    .dataframe tbody tr th:only-of-type {\n",
       "        vertical-align: middle;\n",
       "    }\n",
       "\n",
       "    .dataframe tbody tr th {\n",
       "        vertical-align: top;\n",
       "    }\n",
       "\n",
       "    .dataframe thead th {\n",
       "        text-align: right;\n",
       "    }\n",
       "</style>\n",
       "<table border=\"1\" class=\"dataframe\">\n",
       "  <thead>\n",
       "    <tr style=\"text-align: right;\">\n",
       "      <th></th>\n",
       "      <th>model</th>\n",
       "      <th>uplift@10%</th>\n",
       "      <th>uplift@20%</th>\n",
       "      <th>uplift@30%</th>\n",
       "    </tr>\n",
       "  </thead>\n",
       "  <tbody>\n",
       "    <tr>\n",
       "      <th>0</th>\n",
       "      <td>SoloModel</td>\n",
       "      <td>0.074109</td>\n",
       "      <td>0.071905</td>\n",
       "      <td>0.073349</td>\n",
       "    </tr>\n",
       "    <tr>\n",
       "      <th>1</th>\n",
       "      <td>ClassTransformation</td>\n",
       "      <td>0.106004</td>\n",
       "      <td>0.072372</td>\n",
       "      <td>0.072411</td>\n",
       "    </tr>\n",
       "    <tr>\n",
       "      <th>2</th>\n",
       "      <td>TwoModels</td>\n",
       "      <td>0.082552</td>\n",
       "      <td>0.065332</td>\n",
       "      <td>0.061457</td>\n",
       "    </tr>\n",
       "  </tbody>\n",
       "</table>\n",
       "</div>"
      ],
      "text/plain": [
       "                 model uplift@10% uplift@20% uplift@30%\n",
       "0            SoloModel   0.074109   0.071905   0.073349\n",
       "1  ClassTransformation   0.106004   0.072372   0.072411\n",
       "2            TwoModels   0.082552   0.065332   0.061457"
      ]
     },
     "execution_count": 15,
     "metadata": {},
     "output_type": "execute_result"
    }
   ],
   "source": [
    "metrics_df"
   ]
  },
  {
   "cell_type": "markdown",
   "metadata": {
    "id": "Cs-eaedPUnWj"
   },
   "source": [
    "\n",
    "6. *для модели S-learner построить зависимость таргета (конверсии - поле conversion) от значения uplift:\n",
    "    1. сделать прогноз и получить uplift для тестовой выборки\n",
    "    2. отсортировать тестовую выборку по uplift по убыванию\n",
    "    3. разбить на децили (pandas qcut вам в помощь)\n",
    "    4. для каждого дециля посчитать среднюю conversion"
   ]
  },
  {
   "cell_type": "code",
   "execution_count": 16,
   "metadata": {
    "id": "nGj5S5ywTZPn"
   },
   "outputs": [],
   "source": [
    "sm = SoloModel(\n",
    "    CatBoostClassifier(iterations=100, random_state=7575, silent=True, cat_features=cat_feature)\n",
    ")\n",
    "sm = sm.fit(X_train, y_train, treat_train)\n",
    "uplift_sm = sm.predict(X_test)"
   ]
  },
  {
   "cell_type": "code",
   "execution_count": 17,
   "metadata": {
    "colab": {
     "base_uri": "https://localhost:8080/",
     "height": 206
    },
    "id": "E1eZl9QDW4uE",
    "outputId": "24b2ba30-83e2-476a-9c14-f5176605fea9"
   },
   "outputs": [
    {
     "data": {
      "text/html": [
       "<div>\n",
       "<style scoped>\n",
       "    .dataframe tbody tr th:only-of-type {\n",
       "        vertical-align: middle;\n",
       "    }\n",
       "\n",
       "    .dataframe tbody tr th {\n",
       "        vertical-align: top;\n",
       "    }\n",
       "\n",
       "    .dataframe thead th {\n",
       "        text-align: right;\n",
       "    }\n",
       "</style>\n",
       "<table border=\"1\" class=\"dataframe\">\n",
       "  <thead>\n",
       "    <tr style=\"text-align: right;\">\n",
       "      <th></th>\n",
       "      <th>recency</th>\n",
       "      <th>history</th>\n",
       "      <th>used_discount</th>\n",
       "      <th>used_bogo</th>\n",
       "      <th>zip_code</th>\n",
       "      <th>is_referral</th>\n",
       "      <th>channel</th>\n",
       "      <th>pred_uplift</th>\n",
       "      <th>conversion</th>\n",
       "    </tr>\n",
       "  </thead>\n",
       "  <tbody>\n",
       "    <tr>\n",
       "      <th>30501</th>\n",
       "      <td>6</td>\n",
       "      <td>128.46</td>\n",
       "      <td>1</td>\n",
       "      <td>0</td>\n",
       "      <td>Urban</td>\n",
       "      <td>1</td>\n",
       "      <td>Phone</td>\n",
       "      <td>0.031235</td>\n",
       "      <td>1</td>\n",
       "    </tr>\n",
       "    <tr>\n",
       "      <th>41744</th>\n",
       "      <td>10</td>\n",
       "      <td>121.07</td>\n",
       "      <td>0</td>\n",
       "      <td>1</td>\n",
       "      <td>Surburban</td>\n",
       "      <td>0</td>\n",
       "      <td>Web</td>\n",
       "      <td>0.062516</td>\n",
       "      <td>0</td>\n",
       "    </tr>\n",
       "    <tr>\n",
       "      <th>38409</th>\n",
       "      <td>9</td>\n",
       "      <td>98.57</td>\n",
       "      <td>1</td>\n",
       "      <td>0</td>\n",
       "      <td>Rural</td>\n",
       "      <td>1</td>\n",
       "      <td>Phone</td>\n",
       "      <td>0.037940</td>\n",
       "      <td>0</td>\n",
       "    </tr>\n",
       "    <tr>\n",
       "      <th>26791</th>\n",
       "      <td>4</td>\n",
       "      <td>94.65</td>\n",
       "      <td>0</td>\n",
       "      <td>1</td>\n",
       "      <td>Surburban</td>\n",
       "      <td>0</td>\n",
       "      <td>Web</td>\n",
       "      <td>0.084628</td>\n",
       "      <td>0</td>\n",
       "    </tr>\n",
       "    <tr>\n",
       "      <th>21586</th>\n",
       "      <td>10</td>\n",
       "      <td>202.98</td>\n",
       "      <td>1</td>\n",
       "      <td>1</td>\n",
       "      <td>Surburban</td>\n",
       "      <td>1</td>\n",
       "      <td>Web</td>\n",
       "      <td>0.130600</td>\n",
       "      <td>0</td>\n",
       "    </tr>\n",
       "  </tbody>\n",
       "</table>\n",
       "</div>"
      ],
      "text/plain": [
       "       recency  history  used_discount  used_bogo   zip_code  is_referral  \\\n",
       "30501        6   128.46              1          0      Urban            1   \n",
       "41744       10   121.07              0          1  Surburban            0   \n",
       "38409        9    98.57              1          0      Rural            1   \n",
       "26791        4    94.65              0          1  Surburban            0   \n",
       "21586       10   202.98              1          1  Surburban            1   \n",
       "\n",
       "      channel  pred_uplift  conversion  \n",
       "30501   Phone     0.031235           1  \n",
       "41744     Web     0.062516           0  \n",
       "38409   Phone     0.037940           0  \n",
       "26791     Web     0.084628           0  \n",
       "21586     Web     0.130600           0  "
      ]
     },
     "execution_count": 17,
     "metadata": {},
     "output_type": "execute_result"
    }
   ],
   "source": [
    "df_test = X_test.copy()\n",
    "df_test['pred_uplift'] = uplift_sm\n",
    "df_test['conversion'] = y_test\n",
    "df_test.head()"
   ]
  },
  {
   "cell_type": "code",
   "execution_count": 18,
   "metadata": {
    "colab": {
     "base_uri": "https://localhost:8080/",
     "height": 206
    },
    "id": "VLzUCmOIUteC",
    "outputId": "c5a618bd-c5ed-43b1-90db-a4ea24cbe679"
   },
   "outputs": [
    {
     "data": {
      "text/html": [
       "<div>\n",
       "<style scoped>\n",
       "    .dataframe tbody tr th:only-of-type {\n",
       "        vertical-align: middle;\n",
       "    }\n",
       "\n",
       "    .dataframe tbody tr th {\n",
       "        vertical-align: top;\n",
       "    }\n",
       "\n",
       "    .dataframe thead th {\n",
       "        text-align: right;\n",
       "    }\n",
       "</style>\n",
       "<table border=\"1\" class=\"dataframe\">\n",
       "  <thead>\n",
       "    <tr style=\"text-align: right;\">\n",
       "      <th></th>\n",
       "      <th>recency</th>\n",
       "      <th>history</th>\n",
       "      <th>used_discount</th>\n",
       "      <th>used_bogo</th>\n",
       "      <th>zip_code</th>\n",
       "      <th>is_referral</th>\n",
       "      <th>channel</th>\n",
       "      <th>pred_uplift</th>\n",
       "      <th>conversion</th>\n",
       "    </tr>\n",
       "  </thead>\n",
       "  <tbody>\n",
       "    <tr>\n",
       "      <th>23144</th>\n",
       "      <td>9</td>\n",
       "      <td>230.17</td>\n",
       "      <td>1</td>\n",
       "      <td>1</td>\n",
       "      <td>Urban</td>\n",
       "      <td>0</td>\n",
       "      <td>Web</td>\n",
       "      <td>0.223198</td>\n",
       "      <td>0</td>\n",
       "    </tr>\n",
       "    <tr>\n",
       "      <th>46581</th>\n",
       "      <td>2</td>\n",
       "      <td>166.47</td>\n",
       "      <td>0</td>\n",
       "      <td>1</td>\n",
       "      <td>Surburban</td>\n",
       "      <td>0</td>\n",
       "      <td>Web</td>\n",
       "      <td>0.200485</td>\n",
       "      <td>1</td>\n",
       "    </tr>\n",
       "    <tr>\n",
       "      <th>53809</th>\n",
       "      <td>11</td>\n",
       "      <td>207.24</td>\n",
       "      <td>1</td>\n",
       "      <td>1</td>\n",
       "      <td>Urban</td>\n",
       "      <td>0</td>\n",
       "      <td>Phone</td>\n",
       "      <td>0.198973</td>\n",
       "      <td>1</td>\n",
       "    </tr>\n",
       "    <tr>\n",
       "      <th>14349</th>\n",
       "      <td>11</td>\n",
       "      <td>232.84</td>\n",
       "      <td>1</td>\n",
       "      <td>1</td>\n",
       "      <td>Surburban</td>\n",
       "      <td>0</td>\n",
       "      <td>Web</td>\n",
       "      <td>0.194535</td>\n",
       "      <td>1</td>\n",
       "    </tr>\n",
       "    <tr>\n",
       "      <th>20604</th>\n",
       "      <td>10</td>\n",
       "      <td>228.97</td>\n",
       "      <td>1</td>\n",
       "      <td>1</td>\n",
       "      <td>Surburban</td>\n",
       "      <td>0</td>\n",
       "      <td>Phone</td>\n",
       "      <td>0.193786</td>\n",
       "      <td>0</td>\n",
       "    </tr>\n",
       "  </tbody>\n",
       "</table>\n",
       "</div>"
      ],
      "text/plain": [
       "       recency  history  used_discount  used_bogo   zip_code  is_referral  \\\n",
       "23144        9   230.17              1          1      Urban            0   \n",
       "46581        2   166.47              0          1  Surburban            0   \n",
       "53809       11   207.24              1          1      Urban            0   \n",
       "14349       11   232.84              1          1  Surburban            0   \n",
       "20604       10   228.97              1          1  Surburban            0   \n",
       "\n",
       "      channel  pred_uplift  conversion  \n",
       "23144     Web     0.223198           0  \n",
       "46581     Web     0.200485           1  \n",
       "53809   Phone     0.198973           1  \n",
       "14349     Web     0.194535           1  \n",
       "20604   Phone     0.193786           0  "
      ]
     },
     "execution_count": 18,
     "metadata": {},
     "output_type": "execute_result"
    }
   ],
   "source": [
    "df_test = df_test.sort_values(by='pred_uplift', ascending=False)\n",
    "df_test.head()"
   ]
  },
  {
   "cell_type": "code",
   "execution_count": 19,
   "metadata": {
    "colab": {
     "base_uri": "https://localhost:8080/",
     "height": 206
    },
    "id": "DpCyyKRMXoL2",
    "outputId": "7fd25bae-843d-4d81-e8ba-c7a2fd6d2743"
   },
   "outputs": [
    {
     "data": {
      "text/html": [
       "<div>\n",
       "<style scoped>\n",
       "    .dataframe tbody tr th:only-of-type {\n",
       "        vertical-align: middle;\n",
       "    }\n",
       "\n",
       "    .dataframe tbody tr th {\n",
       "        vertical-align: top;\n",
       "    }\n",
       "\n",
       "    .dataframe thead th {\n",
       "        text-align: right;\n",
       "    }\n",
       "</style>\n",
       "<table border=\"1\" class=\"dataframe\">\n",
       "  <thead>\n",
       "    <tr style=\"text-align: right;\">\n",
       "      <th></th>\n",
       "      <th>recency</th>\n",
       "      <th>history</th>\n",
       "      <th>used_discount</th>\n",
       "      <th>used_bogo</th>\n",
       "      <th>zip_code</th>\n",
       "      <th>is_referral</th>\n",
       "      <th>channel</th>\n",
       "      <th>pred_uplift</th>\n",
       "      <th>conversion</th>\n",
       "      <th>deciles</th>\n",
       "    </tr>\n",
       "  </thead>\n",
       "  <tbody>\n",
       "    <tr>\n",
       "      <th>23144</th>\n",
       "      <td>9</td>\n",
       "      <td>230.17</td>\n",
       "      <td>1</td>\n",
       "      <td>1</td>\n",
       "      <td>Urban</td>\n",
       "      <td>0</td>\n",
       "      <td>Web</td>\n",
       "      <td>0.223198</td>\n",
       "      <td>0</td>\n",
       "      <td>9</td>\n",
       "    </tr>\n",
       "    <tr>\n",
       "      <th>46581</th>\n",
       "      <td>2</td>\n",
       "      <td>166.47</td>\n",
       "      <td>0</td>\n",
       "      <td>1</td>\n",
       "      <td>Surburban</td>\n",
       "      <td>0</td>\n",
       "      <td>Web</td>\n",
       "      <td>0.200485</td>\n",
       "      <td>1</td>\n",
       "      <td>9</td>\n",
       "    </tr>\n",
       "    <tr>\n",
       "      <th>53809</th>\n",
       "      <td>11</td>\n",
       "      <td>207.24</td>\n",
       "      <td>1</td>\n",
       "      <td>1</td>\n",
       "      <td>Urban</td>\n",
       "      <td>0</td>\n",
       "      <td>Phone</td>\n",
       "      <td>0.198973</td>\n",
       "      <td>1</td>\n",
       "      <td>9</td>\n",
       "    </tr>\n",
       "    <tr>\n",
       "      <th>14349</th>\n",
       "      <td>11</td>\n",
       "      <td>232.84</td>\n",
       "      <td>1</td>\n",
       "      <td>1</td>\n",
       "      <td>Surburban</td>\n",
       "      <td>0</td>\n",
       "      <td>Web</td>\n",
       "      <td>0.194535</td>\n",
       "      <td>1</td>\n",
       "      <td>9</td>\n",
       "    </tr>\n",
       "    <tr>\n",
       "      <th>20604</th>\n",
       "      <td>10</td>\n",
       "      <td>228.97</td>\n",
       "      <td>1</td>\n",
       "      <td>1</td>\n",
       "      <td>Surburban</td>\n",
       "      <td>0</td>\n",
       "      <td>Phone</td>\n",
       "      <td>0.193786</td>\n",
       "      <td>0</td>\n",
       "      <td>9</td>\n",
       "    </tr>\n",
       "  </tbody>\n",
       "</table>\n",
       "</div>"
      ],
      "text/plain": [
       "       recency  history  used_discount  used_bogo   zip_code  is_referral  \\\n",
       "23144        9   230.17              1          1      Urban            0   \n",
       "46581        2   166.47              0          1  Surburban            0   \n",
       "53809       11   207.24              1          1      Urban            0   \n",
       "14349       11   232.84              1          1  Surburban            0   \n",
       "20604       10   228.97              1          1  Surburban            0   \n",
       "\n",
       "      channel  pred_uplift  conversion  deciles  \n",
       "23144     Web     0.223198           0        9  \n",
       "46581     Web     0.200485           1        9  \n",
       "53809   Phone     0.198973           1        9  \n",
       "14349     Web     0.194535           1        9  \n",
       "20604   Phone     0.193786           0        9  "
      ]
     },
     "execution_count": 19,
     "metadata": {},
     "output_type": "execute_result"
    }
   ],
   "source": [
    "df_test['deciles'] = pd.qcut(df_test['pred_uplift'], q=10, labels=False)\n",
    "df_test.head()"
   ]
  },
  {
   "cell_type": "code",
   "execution_count": 20,
   "metadata": {},
   "outputs": [
    {
     "name": "stdout",
     "output_type": "stream",
     "text": [
      "Для дециля 0 средняя конверсия равна 0.124\n",
      "Для дециля 1 средняя конверсия равна 0.126\n",
      "Для дециля 2 средняя конверсия равна 0.126\n",
      "Для дециля 3 средняя конверсия равна 0.129\n",
      "Для дециля 4 средняя конверсия равна 0.121\n",
      "Для дециля 5 средняя конверсия равна 0.141\n",
      "Для дециля 6 средняя конверсия равна 0.151\n",
      "Для дециля 7 средняя конверсия равна 0.164\n",
      "Для дециля 8 средняя конверсия равна 0.159\n",
      "Для дециля 9 средняя конверсия равна 0.227\n"
     ]
    }
   ],
   "source": [
    "for i in range(0, 10):\n",
    "    tmp = df_test[df_test['deciles'] == i]\n",
    "    print(f'Для дециля {i} средняя конверсия равна {tmp[\"conversion\"].mean():.3f}')"
   ]
  }
 ],
 "metadata": {
  "colab": {
   "provenance": [],
   "toc_visible": true
  },
  "kernelspec": {
   "display_name": "Python 3 (ipykernel)",
   "language": "python",
   "name": "python3"
  },
  "language_info": {
   "codemirror_mode": {
    "name": "ipython",
    "version": 3
   },
   "file_extension": ".py",
   "mimetype": "text/x-python",
   "name": "python",
   "nbconvert_exporter": "python",
   "pygments_lexer": "ipython3",
   "version": "3.10.9"
  }
 },
 "nbformat": 4,
 "nbformat_minor": 1
}
